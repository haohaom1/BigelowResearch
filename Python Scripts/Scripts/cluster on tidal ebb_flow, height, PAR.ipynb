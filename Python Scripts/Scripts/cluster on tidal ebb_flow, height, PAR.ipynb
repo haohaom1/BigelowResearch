{
 "cells": [
  {
   "cell_type": "code",
   "execution_count": 257,
   "metadata": {
    "collapsed": true
   },
   "outputs": [],
   "source": [
    "import pandas as pd\n",
    "import numpy as np\n",
    "import matplotlib.pyplot as plt\n",
    "import seaborn as sns\n",
    "from scipy.stats import norm\n",
    "%matplotlib notebook\n",
    "import matplotlib as mpl\n",
    "import matplotlib.patches as patches\n",
    "from datetime import datetime, timedelta"
   ]
  },
  {
   "cell_type": "code",
   "execution_count": 227,
   "metadata": {
    "scrolled": true
   },
   "outputs": [
    {
     "data": {
      "text/plain": [
       "Index(['/fields=year', 'month', 'day', 'secDay', 'Lat', 'Lon', 'heading',\n",
       "       'speed', 'Wt', 'cond', 'sal', 'stimfCDOM', 'stimf', 'c660',\n",
       "       'SBE43_oxygen', 'pressure_atm', 'L1_fCO2', 'L2_fCO2', 'omega_Ar',\n",
       "       'omega_Ca', 'bottom_flag'],\n",
       "      dtype='object')"
      ]
     },
     "execution_count": 227,
     "metadata": {},
     "output_type": "execute_result"
    }
   ],
   "source": [
    "pd.read_csv('FLO_L3_CascoBay20171219_revised.csv').columns"
   ]
  },
  {
   "cell_type": "code",
   "execution_count": 228,
   "metadata": {
    "collapsed": true
   },
   "outputs": [],
   "source": [
    "curr_df = pd.read_csv('Tidal_Current Data/CAB1409_prediction_Timeseries_2017-05-02_cleaned.csv')"
   ]
  },
  {
   "cell_type": "code",
   "execution_count": 229,
   "metadata": {
    "collapsed": true
   },
   "outputs": [],
   "source": [
    "curr_df['secDay'] = curr_df['Date_Time (GMT)'].apply(lambda x: (datetime.strptime(x, '%Y-%m-%d %I:%M:%S %p')) - datetime(1970,1,1))\n",
    "curr_df['secDay'] = curr_df['secDay'].apply(lambda x: x.total_seconds() % (24*60*60)) # only care about the number of seconds in that day\n"
   ]
  },
  {
   "cell_type": "code",
   "execution_count": 230,
   "metadata": {},
   "outputs": [
    {
     "data": {
      "text/html": [
       "<div>\n",
       "<style>\n",
       "    .dataframe thead tr:only-child th {\n",
       "        text-align: right;\n",
       "    }\n",
       "\n",
       "    .dataframe thead th {\n",
       "        text-align: left;\n",
       "    }\n",
       "\n",
       "    .dataframe tbody tr th {\n",
       "        vertical-align: top;\n",
       "    }\n",
       "</style>\n",
       "<table border=\"1\" class=\"dataframe\">\n",
       "  <thead>\n",
       "    <tr style=\"text-align: right;\">\n",
       "      <th></th>\n",
       "      <th>Date_Time (GMT)</th>\n",
       "      <th>Speed (cm/sec)</th>\n",
       "      <th>Direction (degrees relative to North)</th>\n",
       "      <th>secDay</th>\n",
       "    </tr>\n",
       "  </thead>\n",
       "  <tbody>\n",
       "    <tr>\n",
       "      <th>0</th>\n",
       "      <td>2017-05-02 12:00:00 AM</td>\n",
       "      <td>-20.8</td>\n",
       "      <td>179</td>\n",
       "      <td>0.0</td>\n",
       "    </tr>\n",
       "    <tr>\n",
       "      <th>1</th>\n",
       "      <td>2017-05-02 12:06:00 AM</td>\n",
       "      <td>-18.9</td>\n",
       "      <td>179</td>\n",
       "      <td>360.0</td>\n",
       "    </tr>\n",
       "    <tr>\n",
       "      <th>2</th>\n",
       "      <td>2017-05-02 12:12:00 AM</td>\n",
       "      <td>-17.1</td>\n",
       "      <td>179</td>\n",
       "      <td>720.0</td>\n",
       "    </tr>\n",
       "    <tr>\n",
       "      <th>3</th>\n",
       "      <td>2017-05-02 12:18:00 AM</td>\n",
       "      <td>-15.4</td>\n",
       "      <td>179</td>\n",
       "      <td>1080.0</td>\n",
       "    </tr>\n",
       "    <tr>\n",
       "      <th>4</th>\n",
       "      <td>2017-05-02 12:24:00 AM</td>\n",
       "      <td>-13.7</td>\n",
       "      <td>179</td>\n",
       "      <td>1440.0</td>\n",
       "    </tr>\n",
       "  </tbody>\n",
       "</table>\n",
       "</div>"
      ],
      "text/plain": [
       "          Date_Time (GMT)  Speed (cm/sec)  \\\n",
       "0  2017-05-02 12:00:00 AM           -20.8   \n",
       "1  2017-05-02 12:06:00 AM           -18.9   \n",
       "2  2017-05-02 12:12:00 AM           -17.1   \n",
       "3  2017-05-02 12:18:00 AM           -15.4   \n",
       "4  2017-05-02 12:24:00 AM           -13.7   \n",
       "\n",
       "   Direction (degrees relative to North)  secDay  \n",
       "0                                    179     0.0  \n",
       "1                                    179   360.0  \n",
       "2                                    179   720.0  \n",
       "3                                    179  1080.0  \n",
       "4                                    179  1440.0  "
      ]
     },
     "execution_count": 230,
     "metadata": {},
     "output_type": "execute_result"
    }
   ],
   "source": [
    "curr_df.head()"
   ]
  },
  {
   "cell_type": "code",
   "execution_count": 263,
   "metadata": {
    "collapsed": true
   },
   "outputs": [],
   "source": [
    "tidal_df = pd.read_csv('Tidal_data.csv')"
   ]
  },
  {
   "cell_type": "code",
   "execution_count": 264,
   "metadata": {
    "scrolled": true
   },
   "outputs": [
    {
     "data": {
      "text/html": [
       "<div>\n",
       "<style>\n",
       "    .dataframe thead tr:only-child th {\n",
       "        text-align: right;\n",
       "    }\n",
       "\n",
       "    .dataframe thead th {\n",
       "        text-align: left;\n",
       "    }\n",
       "\n",
       "    .dataframe tbody tr th {\n",
       "        vertical-align: top;\n",
       "    }\n",
       "</style>\n",
       "<table border=\"1\" class=\"dataframe\">\n",
       "  <thead>\n",
       "    <tr style=\"text-align: right;\">\n",
       "      <th></th>\n",
       "      <th>Date</th>\n",
       "      <th>Day</th>\n",
       "      <th>Time (EST)</th>\n",
       "      <th>Pred</th>\n",
       "      <th>High/Low</th>\n",
       "    </tr>\n",
       "  </thead>\n",
       "  <tbody>\n",
       "    <tr>\n",
       "      <th>0</th>\n",
       "      <td>2017/03/17</td>\n",
       "      <td>Fri</td>\n",
       "      <td>02:51</td>\n",
       "      <td>9.36</td>\n",
       "      <td>H</td>\n",
       "    </tr>\n",
       "    <tr>\n",
       "      <th>1</th>\n",
       "      <td>2017/03/17</td>\n",
       "      <td>Fri</td>\n",
       "      <td>09:08</td>\n",
       "      <td>0.39</td>\n",
       "      <td>L</td>\n",
       "    </tr>\n",
       "    <tr>\n",
       "      <th>2</th>\n",
       "      <td>2017/03/17</td>\n",
       "      <td>Fri</td>\n",
       "      <td>15:20</td>\n",
       "      <td>8.73</td>\n",
       "      <td>H</td>\n",
       "    </tr>\n",
       "    <tr>\n",
       "      <th>3</th>\n",
       "      <td>2017/03/17</td>\n",
       "      <td>Fri</td>\n",
       "      <td>21:21</td>\n",
       "      <td>0.98</td>\n",
       "      <td>L</td>\n",
       "    </tr>\n",
       "    <tr>\n",
       "      <th>4</th>\n",
       "      <td>2017/05/02</td>\n",
       "      <td>Tue</td>\n",
       "      <td>04:23</td>\n",
       "      <td>10.47</td>\n",
       "      <td>H</td>\n",
       "    </tr>\n",
       "    <tr>\n",
       "      <th>5</th>\n",
       "      <td>2017/05/02</td>\n",
       "      <td>Tue</td>\n",
       "      <td>10:53</td>\n",
       "      <td>-0.53</td>\n",
       "      <td>L</td>\n",
       "    </tr>\n",
       "    <tr>\n",
       "      <th>6</th>\n",
       "      <td>2017/05/02</td>\n",
       "      <td>Tue</td>\n",
       "      <td>17:14</td>\n",
       "      <td>9.44</td>\n",
       "      <td>H</td>\n",
       "    </tr>\n",
       "    <tr>\n",
       "      <th>7</th>\n",
       "      <td>2017/05/02</td>\n",
       "      <td>Tue</td>\n",
       "      <td>23:14</td>\n",
       "      <td>0.71</td>\n",
       "      <td>L</td>\n",
       "    </tr>\n",
       "    <tr>\n",
       "      <th>8</th>\n",
       "      <td>2017/12/19</td>\n",
       "      <td>Tue</td>\n",
       "      <td>05:24</td>\n",
       "      <td>0.95</td>\n",
       "      <td>L</td>\n",
       "    </tr>\n",
       "    <tr>\n",
       "      <th>9</th>\n",
       "      <td>2017/12/19</td>\n",
       "      <td>Tue</td>\n",
       "      <td>11:33</td>\n",
       "      <td>9.77</td>\n",
       "      <td>H</td>\n",
       "    </tr>\n",
       "    <tr>\n",
       "      <th>10</th>\n",
       "      <td>2017/12/19</td>\n",
       "      <td>Tue</td>\n",
       "      <td>17:58</td>\n",
       "      <td>-0.03</td>\n",
       "      <td>L</td>\n",
       "    </tr>\n",
       "    <tr>\n",
       "      <th>11</th>\n",
       "      <td>2018/03/28</td>\n",
       "      <td>Wed</td>\n",
       "      <td>02:54</td>\n",
       "      <td>0.27</td>\n",
       "      <td>L</td>\n",
       "    </tr>\n",
       "    <tr>\n",
       "      <th>12</th>\n",
       "      <td>2018/03/28</td>\n",
       "      <td>Wed</td>\n",
       "      <td>09:10</td>\n",
       "      <td>10.20</td>\n",
       "      <td>H</td>\n",
       "    </tr>\n",
       "    <tr>\n",
       "      <th>13</th>\n",
       "      <td>2018/03/28</td>\n",
       "      <td>Wed</td>\n",
       "      <td>15:33</td>\n",
       "      <td>-0.58</td>\n",
       "      <td>L</td>\n",
       "    </tr>\n",
       "    <tr>\n",
       "      <th>14</th>\n",
       "      <td>2018/03/28</td>\n",
       "      <td>Wed</td>\n",
       "      <td>21:50</td>\n",
       "      <td>9.71</td>\n",
       "      <td>H</td>\n",
       "    </tr>\n",
       "    <tr>\n",
       "      <th>15</th>\n",
       "      <td>2018/05/07</td>\n",
       "      <td>Mon</td>\n",
       "      <td>02:39</td>\n",
       "      <td>2.02</td>\n",
       "      <td>L</td>\n",
       "    </tr>\n",
       "    <tr>\n",
       "      <th>16</th>\n",
       "      <td>2018/05/07</td>\n",
       "      <td>Mon</td>\n",
       "      <td>08:48</td>\n",
       "      <td>8.75</td>\n",
       "      <td>H</td>\n",
       "    </tr>\n",
       "    <tr>\n",
       "      <th>17</th>\n",
       "      <td>2018/05/07</td>\n",
       "      <td>Mon</td>\n",
       "      <td>15:17</td>\n",
       "      <td>1.20</td>\n",
       "      <td>L</td>\n",
       "    </tr>\n",
       "    <tr>\n",
       "      <th>18</th>\n",
       "      <td>2018/05/07</td>\n",
       "      <td>Mon</td>\n",
       "      <td>21:37</td>\n",
       "      <td>8.08</td>\n",
       "      <td>H</td>\n",
       "    </tr>\n",
       "  </tbody>\n",
       "</table>\n",
       "</div>"
      ],
      "text/plain": [
       "          Date  Day Time (EST)   Pred High/Low\n",
       "0   2017/03/17  Fri      02:51   9.36        H\n",
       "1   2017/03/17  Fri      09:08   0.39        L\n",
       "2   2017/03/17  Fri      15:20   8.73        H\n",
       "3   2017/03/17  Fri      21:21   0.98        L\n",
       "4   2017/05/02  Tue      04:23  10.47        H\n",
       "5   2017/05/02  Tue      10:53  -0.53        L\n",
       "6   2017/05/02  Tue      17:14   9.44        H\n",
       "7   2017/05/02  Tue      23:14   0.71        L\n",
       "8   2017/12/19  Tue      05:24   0.95        L\n",
       "9   2017/12/19  Tue      11:33   9.77        H\n",
       "10  2017/12/19  Tue      17:58  -0.03        L\n",
       "11  2018/03/28  Wed      02:54   0.27        L\n",
       "12  2018/03/28  Wed      09:10  10.20        H\n",
       "13  2018/03/28  Wed      15:33  -0.58        L\n",
       "14  2018/03/28  Wed      21:50   9.71        H\n",
       "15  2018/05/07  Mon      02:39   2.02        L\n",
       "16  2018/05/07  Mon      08:48   8.75        H\n",
       "17  2018/05/07  Mon      15:17   1.20        L\n",
       "18  2018/05/07  Mon      21:37   8.08        H"
      ]
     },
     "execution_count": 264,
     "metadata": {},
     "output_type": "execute_result"
    }
   ],
   "source": [
    "tidal_df"
   ]
  },
  {
   "cell_type": "code",
   "execution_count": 273,
   "metadata": {},
   "outputs": [],
   "source": [
    "# cleans data\n",
    "\n",
    "tidal_df['datetime (EST)'] = tidal_df['Date'] + ' ' + tidal_df['Time (EST)']\n",
    "tidal_df['datetime (EST)'] = tidal_df.apply(lambda row: datetime.strptime(row['datetime (EST)'], '%Y/%m/%d %H:%M')\n",
    "                                            .strftime('%Y-%m-%d %I:%M:%S %p'), axis=1)\n",
    "tidal_df['datetime (GMT)'] = tidal_df['datetime (EST)'].apply(lambda x: (datetime.strptime(x, '%Y-%m-%d %I:%M:%S %p') + timedelta(hours=5)).strftime('%Y-%m-%d %I:%M:%S %p'))\n",
    "tidal_df['Pred (m)'] = tidal_df['Pred'] * 0.3048 # converts ft to meters\n",
    "\n",
    "tidal_df['secDay'] = tidal_df['datetime (GMT)'].apply(lambda x: (datetime.strptime(x, '%Y-%m-%d %I:%M:%S %p')) - datetime(1970,1,1))\n",
    "tidal_df['secDay'] = tidal_df['secDay'].apply(lambda x: x.total_seconds() % (24*60*60)) # only care about the number of seconds in that day\n"
   ]
  },
  {
   "cell_type": "code",
   "execution_count": 332,
   "metadata": {},
   "outputs": [
    {
     "data": {
      "text/html": [
       "<div>\n",
       "<style>\n",
       "    .dataframe thead tr:only-child th {\n",
       "        text-align: right;\n",
       "    }\n",
       "\n",
       "    .dataframe thead th {\n",
       "        text-align: left;\n",
       "    }\n",
       "\n",
       "    .dataframe tbody tr th {\n",
       "        vertical-align: top;\n",
       "    }\n",
       "</style>\n",
       "<table border=\"1\" class=\"dataframe\">\n",
       "  <thead>\n",
       "    <tr style=\"text-align: right;\">\n",
       "      <th></th>\n",
       "      <th>Date</th>\n",
       "      <th>Day</th>\n",
       "      <th>Time (EST)</th>\n",
       "      <th>Pred</th>\n",
       "      <th>High/Low</th>\n",
       "      <th>datetime (EST)</th>\n",
       "      <th>datetime (GMT)</th>\n",
       "      <th>Pred (m)</th>\n",
       "      <th>secDay</th>\n",
       "    </tr>\n",
       "  </thead>\n",
       "  <tbody>\n",
       "    <tr>\n",
       "      <th>0</th>\n",
       "      <td>2017/03/17</td>\n",
       "      <td>Fri</td>\n",
       "      <td>02:51</td>\n",
       "      <td>9.36</td>\n",
       "      <td>H</td>\n",
       "      <td>2017-03-17 02:51:00 AM</td>\n",
       "      <td>2017-03-17 07:51:00 AM</td>\n",
       "      <td>2.852928</td>\n",
       "      <td>28260.0</td>\n",
       "    </tr>\n",
       "    <tr>\n",
       "      <th>1</th>\n",
       "      <td>2017/03/17</td>\n",
       "      <td>Fri</td>\n",
       "      <td>09:08</td>\n",
       "      <td>0.39</td>\n",
       "      <td>L</td>\n",
       "      <td>2017-03-17 09:08:00 AM</td>\n",
       "      <td>2017-03-17 02:08:00 PM</td>\n",
       "      <td>0.118872</td>\n",
       "      <td>50880.0</td>\n",
       "    </tr>\n",
       "    <tr>\n",
       "      <th>2</th>\n",
       "      <td>2017/03/17</td>\n",
       "      <td>Fri</td>\n",
       "      <td>15:20</td>\n",
       "      <td>8.73</td>\n",
       "      <td>H</td>\n",
       "      <td>2017-03-17 03:20:00 PM</td>\n",
       "      <td>2017-03-17 08:20:00 PM</td>\n",
       "      <td>2.660904</td>\n",
       "      <td>73200.0</td>\n",
       "    </tr>\n",
       "    <tr>\n",
       "      <th>3</th>\n",
       "      <td>2017/05/02</td>\n",
       "      <td>Tue</td>\n",
       "      <td>04:23</td>\n",
       "      <td>10.47</td>\n",
       "      <td>H</td>\n",
       "      <td>2017-05-02 04:23:00 AM</td>\n",
       "      <td>2017-05-02 09:23:00 AM</td>\n",
       "      <td>3.191256</td>\n",
       "      <td>33780.0</td>\n",
       "    </tr>\n",
       "    <tr>\n",
       "      <th>4</th>\n",
       "      <td>2017/05/02</td>\n",
       "      <td>Tue</td>\n",
       "      <td>10:53</td>\n",
       "      <td>-0.53</td>\n",
       "      <td>L</td>\n",
       "      <td>2017-05-02 10:53:00 AM</td>\n",
       "      <td>2017-05-02 03:53:00 PM</td>\n",
       "      <td>-0.161544</td>\n",
       "      <td>57180.0</td>\n",
       "    </tr>\n",
       "    <tr>\n",
       "      <th>5</th>\n",
       "      <td>2017/05/02</td>\n",
       "      <td>Tue</td>\n",
       "      <td>17:14</td>\n",
       "      <td>9.44</td>\n",
       "      <td>H</td>\n",
       "      <td>2017-05-02 05:14:00 PM</td>\n",
       "      <td>2017-05-02 10:14:00 PM</td>\n",
       "      <td>2.877312</td>\n",
       "      <td>80040.0</td>\n",
       "    </tr>\n",
       "    <tr>\n",
       "      <th>6</th>\n",
       "      <td>2017/12/19</td>\n",
       "      <td>Tue</td>\n",
       "      <td>05:24</td>\n",
       "      <td>0.95</td>\n",
       "      <td>L</td>\n",
       "      <td>2017-12-19 05:24:00 AM</td>\n",
       "      <td>2017-12-19 10:24:00 AM</td>\n",
       "      <td>0.289560</td>\n",
       "      <td>37440.0</td>\n",
       "    </tr>\n",
       "    <tr>\n",
       "      <th>7</th>\n",
       "      <td>2017/12/19</td>\n",
       "      <td>Tue</td>\n",
       "      <td>11:33</td>\n",
       "      <td>9.77</td>\n",
       "      <td>H</td>\n",
       "      <td>2017-12-19 11:33:00 AM</td>\n",
       "      <td>2017-12-19 04:33:00 PM</td>\n",
       "      <td>2.977896</td>\n",
       "      <td>59580.0</td>\n",
       "    </tr>\n",
       "    <tr>\n",
       "      <th>8</th>\n",
       "      <td>2017/12/19</td>\n",
       "      <td>Tue</td>\n",
       "      <td>17:58</td>\n",
       "      <td>-0.03</td>\n",
       "      <td>L</td>\n",
       "      <td>2017-12-19 05:58:00 PM</td>\n",
       "      <td>2017-12-19 10:58:00 PM</td>\n",
       "      <td>-0.009144</td>\n",
       "      <td>82680.0</td>\n",
       "    </tr>\n",
       "    <tr>\n",
       "      <th>9</th>\n",
       "      <td>2018/03/28</td>\n",
       "      <td>Wed</td>\n",
       "      <td>02:54</td>\n",
       "      <td>0.27</td>\n",
       "      <td>L</td>\n",
       "      <td>2018-03-28 02:54:00 AM</td>\n",
       "      <td>2018-03-28 07:54:00 AM</td>\n",
       "      <td>0.082296</td>\n",
       "      <td>28440.0</td>\n",
       "    </tr>\n",
       "    <tr>\n",
       "      <th>10</th>\n",
       "      <td>2018/03/28</td>\n",
       "      <td>Wed</td>\n",
       "      <td>09:10</td>\n",
       "      <td>10.20</td>\n",
       "      <td>H</td>\n",
       "      <td>2018-03-28 09:10:00 AM</td>\n",
       "      <td>2018-03-28 02:10:00 PM</td>\n",
       "      <td>3.108960</td>\n",
       "      <td>51000.0</td>\n",
       "    </tr>\n",
       "    <tr>\n",
       "      <th>11</th>\n",
       "      <td>2018/03/28</td>\n",
       "      <td>Wed</td>\n",
       "      <td>15:33</td>\n",
       "      <td>-0.58</td>\n",
       "      <td>L</td>\n",
       "      <td>2018-03-28 03:33:00 PM</td>\n",
       "      <td>2018-03-28 08:33:00 PM</td>\n",
       "      <td>-0.176784</td>\n",
       "      <td>73980.0</td>\n",
       "    </tr>\n",
       "    <tr>\n",
       "      <th>12</th>\n",
       "      <td>2018/05/07</td>\n",
       "      <td>Mon</td>\n",
       "      <td>02:39</td>\n",
       "      <td>2.02</td>\n",
       "      <td>L</td>\n",
       "      <td>2018-05-07 02:39:00 AM</td>\n",
       "      <td>2018-05-07 07:39:00 AM</td>\n",
       "      <td>0.615696</td>\n",
       "      <td>27540.0</td>\n",
       "    </tr>\n",
       "    <tr>\n",
       "      <th>13</th>\n",
       "      <td>2018/05/07</td>\n",
       "      <td>Mon</td>\n",
       "      <td>08:48</td>\n",
       "      <td>8.75</td>\n",
       "      <td>H</td>\n",
       "      <td>2018-05-07 08:48:00 AM</td>\n",
       "      <td>2018-05-07 01:48:00 PM</td>\n",
       "      <td>2.667000</td>\n",
       "      <td>49680.0</td>\n",
       "    </tr>\n",
       "    <tr>\n",
       "      <th>14</th>\n",
       "      <td>2018/05/07</td>\n",
       "      <td>Mon</td>\n",
       "      <td>15:17</td>\n",
       "      <td>1.20</td>\n",
       "      <td>L</td>\n",
       "      <td>2018-05-07 03:17:00 PM</td>\n",
       "      <td>2018-05-07 08:17:00 PM</td>\n",
       "      <td>0.365760</td>\n",
       "      <td>73020.0</td>\n",
       "    </tr>\n",
       "  </tbody>\n",
       "</table>\n",
       "</div>"
      ],
      "text/plain": [
       "          Date  Day Time (EST)   Pred High/Low          datetime (EST)  \\\n",
       "0   2017/03/17  Fri      02:51   9.36        H  2017-03-17 02:51:00 AM   \n",
       "1   2017/03/17  Fri      09:08   0.39        L  2017-03-17 09:08:00 AM   \n",
       "2   2017/03/17  Fri      15:20   8.73        H  2017-03-17 03:20:00 PM   \n",
       "3   2017/05/02  Tue      04:23  10.47        H  2017-05-02 04:23:00 AM   \n",
       "4   2017/05/02  Tue      10:53  -0.53        L  2017-05-02 10:53:00 AM   \n",
       "5   2017/05/02  Tue      17:14   9.44        H  2017-05-02 05:14:00 PM   \n",
       "6   2017/12/19  Tue      05:24   0.95        L  2017-12-19 05:24:00 AM   \n",
       "7   2017/12/19  Tue      11:33   9.77        H  2017-12-19 11:33:00 AM   \n",
       "8   2017/12/19  Tue      17:58  -0.03        L  2017-12-19 05:58:00 PM   \n",
       "9   2018/03/28  Wed      02:54   0.27        L  2018-03-28 02:54:00 AM   \n",
       "10  2018/03/28  Wed      09:10  10.20        H  2018-03-28 09:10:00 AM   \n",
       "11  2018/03/28  Wed      15:33  -0.58        L  2018-03-28 03:33:00 PM   \n",
       "12  2018/05/07  Mon      02:39   2.02        L  2018-05-07 02:39:00 AM   \n",
       "13  2018/05/07  Mon      08:48   8.75        H  2018-05-07 08:48:00 AM   \n",
       "14  2018/05/07  Mon      15:17   1.20        L  2018-05-07 03:17:00 PM   \n",
       "\n",
       "            datetime (GMT)  Pred (m)   secDay  \n",
       "0   2017-03-17 07:51:00 AM  2.852928  28260.0  \n",
       "1   2017-03-17 02:08:00 PM  0.118872  50880.0  \n",
       "2   2017-03-17 08:20:00 PM  2.660904  73200.0  \n",
       "3   2017-05-02 09:23:00 AM  3.191256  33780.0  \n",
       "4   2017-05-02 03:53:00 PM -0.161544  57180.0  \n",
       "5   2017-05-02 10:14:00 PM  2.877312  80040.0  \n",
       "6   2017-12-19 10:24:00 AM  0.289560  37440.0  \n",
       "7   2017-12-19 04:33:00 PM  2.977896  59580.0  \n",
       "8   2017-12-19 10:58:00 PM -0.009144  82680.0  \n",
       "9   2018-03-28 07:54:00 AM  0.082296  28440.0  \n",
       "10  2018-03-28 02:10:00 PM  3.108960  51000.0  \n",
       "11  2018-03-28 08:33:00 PM -0.176784  73980.0  \n",
       "12  2018-05-07 07:39:00 AM  0.615696  27540.0  \n",
       "13  2018-05-07 01:48:00 PM  2.667000  49680.0  \n",
       "14  2018-05-07 08:17:00 PM  0.365760  73020.0  "
      ]
     },
     "execution_count": 332,
     "metadata": {},
     "output_type": "execute_result"
    }
   ],
   "source": [
    "# only includes \n",
    "tidal_df = tidal_df[tidal_df['datetime (EST)'].apply(lambda x: (datetime.strptime(x, '%Y-%m-%d %I:%M:%S %p')).date()) == \n",
    "                    tidal_df['datetime (GMT)'].apply(lambda x: (datetime.strptime(x, '%Y-%m-%d %I:%M:%S %p')).date())]\n",
    "tidal_df.reset_index(inplace=True, drop=True)\n",
    "tidal_df"
   ]
  },
  {
   "cell_type": "code",
   "execution_count": null,
   "metadata": {},
   "outputs": [],
   "source": []
  },
  {
   "cell_type": "code",
   "execution_count": 333,
   "metadata": {},
   "outputs": [
    {
     "data": {
      "text/plain": [
       "Date        High/Low\n",
       "2017/03/17  H           2.756916\n",
       "            L           0.118872\n",
       "2017/05/02  H           3.034284\n",
       "            L          -0.161544\n",
       "2017/12/19  H           2.977896\n",
       "            L           0.140208\n",
       "2018/03/28  H           3.108960\n",
       "            L          -0.047244\n",
       "2018/05/07  H           2.667000\n",
       "            L           0.490728\n",
       "Name: Pred (m), dtype: float64"
      ]
     },
     "execution_count": 333,
     "metadata": {},
     "output_type": "execute_result"
    }
   ],
   "source": [
    "heights = tidal_df.groupby(['Date', 'High/Low'])['Pred (m)'].mean()\n",
    "heights"
   ]
  },
  {
   "cell_type": "code",
   "execution_count": 434,
   "metadata": {},
   "outputs": [
    {
     "data": {
      "text/plain": [
       "array([ 73200.,  80040.,  59580.,  51000.,  49680.])"
      ]
     },
     "execution_count": 434,
     "metadata": {},
     "output_type": "execute_result"
    }
   ],
   "source": [
    "phase_shifts = tidal_df.groupby(['Date', 'High/Low'])['secDay'].max()[::2].values\n",
    "phase_shifts"
   ]
  },
  {
   "cell_type": "code",
   "execution_count": 435,
   "metadata": {},
   "outputs": [],
   "source": [
    "df_temp = tidal_df.groupby(['Date'])['secDay'].diff()"
   ]
  },
  {
   "cell_type": "code",
   "execution_count": 436,
   "metadata": {},
   "outputs": [
    {
     "data": {
      "text/plain": [
       "array([ 0,  3,  6,  9, 12])"
      ]
     },
     "execution_count": 436,
     "metadata": {},
     "output_type": "execute_result"
    }
   ],
   "source": [
    "null_indices = df_temp[np.isnan(df_temp)].index.values\n",
    "null_indices"
   ]
  },
  {
   "cell_type": "code",
   "execution_count": 437,
   "metadata": {},
   "outputs": [
    {
     "data": {
      "text/plain": [
       "[44940.0, 46260.0, 45240.0, 45540.0, 45480.0]"
      ]
     },
     "execution_count": 437,
     "metadata": {},
     "output_type": "execute_result"
    }
   ],
   "source": [
    "split_dfs = []\n",
    "for i in range(len(null_indices)):\n",
    "    try:\n",
    "        split_dfs.append(df_temp.truncate(null_indices[i], null_indices[i+1]).dropna())\n",
    "    except:\n",
    "        split_dfs.append(df_temp.truncate(null_indices[i]).dropna())\n",
    "periods = [2 * x.mean() for x in split_dfs]\n",
    "periods"
   ]
  },
  {
   "cell_type": "code",
   "execution_count": 464,
   "metadata": {
    "collapsed": true
   },
   "outputs": [],
   "source": [
    "def predict_wave(t, max_wave_height, min_wave_height, period, phase_shift):\n",
    "    amp = np.abs((max_wave_height - min_wave_height) / 2)\n",
    "    vert_shift = np.abs(np.mean([max_wave_height, min_wave_height]))\n",
    "    w = 2 * np.pi / period \n",
    "    return amp * np.cos(w * t - w * phase_shift) + vert_shift"
   ]
  },
  {
   "cell_type": "code",
   "execution_count": 465,
   "metadata": {},
   "outputs": [
    {
     "data": {
      "text/plain": [
       "0.21027927619978271"
      ]
     },
     "execution_count": 465,
     "metadata": {},
     "output_type": "execute_result"
    }
   ],
   "source": [
    "predict_wave(32880, 2.75, 0.21, periods[0], 10260)"
   ]
  },
  {
   "cell_type": "code",
   "execution_count": 466,
   "metadata": {},
   "outputs": [
    {
     "data": {
      "text/plain": [
       "{'Date_Time (GMT)': '2017-05-02 12:00:00 AM',\n",
       " 'Direction (degrees relative to North)': 179,\n",
       " 'Speed (cm/sec)': -20.800000000000001,\n",
       " 'secDay': 0.0}"
      ]
     },
     "execution_count": 466,
     "metadata": {},
     "output_type": "execute_result"
    }
   ],
   "source": [
    "dict(curr_df.iloc[0])"
   ]
  },
  {
   "cell_type": "code",
   "execution_count": 467,
   "metadata": {},
   "outputs": [
    {
     "data": {
      "text/html": [
       "<div>\n",
       "<style>\n",
       "    .dataframe thead tr:only-child th {\n",
       "        text-align: right;\n",
       "    }\n",
       "\n",
       "    .dataframe thead th {\n",
       "        text-align: left;\n",
       "    }\n",
       "\n",
       "    .dataframe tbody tr th {\n",
       "        vertical-align: top;\n",
       "    }\n",
       "</style>\n",
       "<table border=\"1\" class=\"dataframe\">\n",
       "  <thead>\n",
       "    <tr style=\"text-align: right;\">\n",
       "      <th></th>\n",
       "      <th>max_wave_height</th>\n",
       "      <th>min_wave_height</th>\n",
       "      <th>period</th>\n",
       "      <th>phase_shift</th>\n",
       "    </tr>\n",
       "    <tr>\n",
       "      <th>Date</th>\n",
       "      <th></th>\n",
       "      <th></th>\n",
       "      <th></th>\n",
       "      <th></th>\n",
       "    </tr>\n",
       "  </thead>\n",
       "  <tbody>\n",
       "    <tr>\n",
       "      <th>2017/03/17</th>\n",
       "      <td>2.756916</td>\n",
       "      <td>0.118872</td>\n",
       "      <td>44940.0</td>\n",
       "      <td>73200.0</td>\n",
       "    </tr>\n",
       "    <tr>\n",
       "      <th>2017/05/02</th>\n",
       "      <td>3.034284</td>\n",
       "      <td>-0.161544</td>\n",
       "      <td>46260.0</td>\n",
       "      <td>80040.0</td>\n",
       "    </tr>\n",
       "    <tr>\n",
       "      <th>2017/12/19</th>\n",
       "      <td>2.977896</td>\n",
       "      <td>0.140208</td>\n",
       "      <td>45240.0</td>\n",
       "      <td>59580.0</td>\n",
       "    </tr>\n",
       "    <tr>\n",
       "      <th>2018/03/28</th>\n",
       "      <td>3.108960</td>\n",
       "      <td>-0.047244</td>\n",
       "      <td>45540.0</td>\n",
       "      <td>51000.0</td>\n",
       "    </tr>\n",
       "    <tr>\n",
       "      <th>2018/05/07</th>\n",
       "      <td>2.667000</td>\n",
       "      <td>0.490728</td>\n",
       "      <td>45480.0</td>\n",
       "      <td>49680.0</td>\n",
       "    </tr>\n",
       "  </tbody>\n",
       "</table>\n",
       "</div>"
      ],
      "text/plain": [
       "            max_wave_height  min_wave_height   period  phase_shift\n",
       "Date                                                              \n",
       "2017/03/17         2.756916         0.118872  44940.0      73200.0\n",
       "2017/05/02         3.034284        -0.161544  46260.0      80040.0\n",
       "2017/12/19         2.977896         0.140208  45240.0      59580.0\n",
       "2018/03/28         3.108960        -0.047244  45540.0      51000.0\n",
       "2018/05/07         2.667000         0.490728  45480.0      49680.0"
      ]
     },
     "execution_count": 467,
     "metadata": {},
     "output_type": "execute_result"
    }
   ],
   "source": [
    "tides_df = pd.concat([heights.unstack(level='High/Low')['H'], heights.unstack(level='High/Low')['L']], axis=1)\n",
    "tides_df['period'] = periods\n",
    "tides_df['phase_shift'] = phase_shifts\n",
    "tides_df.rename(index=str, columns=dict(H='max_wave_height', L='min_wave_height'), inplace=True)\n",
    "tides_df"
   ]
  },
  {
   "cell_type": "code",
   "execution_count": 468,
   "metadata": {
    "collapsed": true
   },
   "outputs": [],
   "source": [
    "tides_df.to_csv('tides_df.csv', index=False)"
   ]
  },
  {
   "cell_type": "code",
   "execution_count": 475,
   "metadata": {},
   "outputs": [
    {
     "data": {
      "text/plain": [
       "6    0.143360\n",
       "7    2.977896\n",
       "8    0.143360\n",
       "Name: secDay, dtype: float64"
      ]
     },
     "execution_count": 475,
     "metadata": {},
     "output_type": "execute_result"
    }
   ],
   "source": [
    "i = 2\n",
    "predict_wave(tidal_df['secDay'][3*i:3*(i+1)], **dict(tides_df.iloc[i]))"
   ]
  },
  {
   "cell_type": "code",
   "execution_count": 476,
   "metadata": {},
   "outputs": [
    {
     "data": {
      "text/plain": [
       "6    0.289560\n",
       "7    2.977896\n",
       "8   -0.009144\n",
       "Name: Pred (m), dtype: float64"
      ]
     },
     "execution_count": 476,
     "metadata": {},
     "output_type": "execute_result"
    }
   ],
   "source": [
    "tidal_df['Pred (m)'][3*i:3*(i+1)]"
   ]
  },
  {
   "cell_type": "code",
   "execution_count": null,
   "metadata": {
    "collapsed": true
   },
   "outputs": [],
   "source": []
  },
  {
   "cell_type": "markdown",
   "metadata": {},
   "source": [
    "## Loads in the dataframes from each date"
   ]
  },
  {
   "cell_type": "code",
   "execution_count": 212,
   "metadata": {},
   "outputs": [],
   "source": [
    "df1 = pd.read_csv('FLO_L3_20170317.csv', skiprows=[1])\n",
    "df2 = pd.read_csv('FLO_L3_20170502.csv', skiprows=[1])\n",
    "df3 = pd.read_csv('FLO_L3_CascoBay20171219_revised.csv', skiprows=[1])"
   ]
  },
  {
   "cell_type": "code",
   "execution_count": 290,
   "metadata": {},
   "outputs": [
    {
     "data": {
      "text/plain": [
       "Index(['Julian Day', 'secDay', 'Lat', 'Lon', 'Heading', 'Speed (m/s)',\n",
       "       'Water temp (C)', 'Cond (mmho/cm)', 'Salinity (PSU)', 'CDOM (ppb)',\n",
       "       'Chl a (mg/m3)', 'Attenuation (c660)', 'O2 umol/L', '% sat O2',\n",
       "       'Pressure (hPa)', 'sw xCO2 m (umol/mol)', 'sw xCO2 dry (umol/mol)',\n",
       "       'sw pCO2 dry (uatm)', 'sw pCO2 (uatm)', 'sw fCO2 (uatm)',\n",
       "       'air xCO2 (uatm)', 'air fCO2 (uatm)', 'air xCO2 (uatm).1',\n",
       "       'air fCO2 (uatm).1', 'solar zenith (deg)', 'depth (m)',\n",
       "       'Nitrate (umol/L)', 'Pressure (hPa).1', 'Phyco (ppb)', 'pH',\n",
       "       'O2 umol/L.1', '% sat O2.1', 'air temp', 'PAR'],\n",
       "      dtype='object')"
      ]
     },
     "execution_count": 290,
     "metadata": {},
     "output_type": "execute_result"
    }
   ],
   "source": [
    "df1.columns"
   ]
  },
  {
   "cell_type": "code",
   "execution_count": null,
   "metadata": {
    "collapsed": true
   },
   "outputs": [],
   "source": []
  }
 ],
 "metadata": {
  "anaconda-cloud": {},
  "kernelspec": {
   "display_name": "Python [default]",
   "language": "python",
   "name": "python3"
  },
  "language_info": {
   "codemirror_mode": {
    "name": "ipython",
    "version": 3
   },
   "file_extension": ".py",
   "mimetype": "text/x-python",
   "name": "python",
   "nbconvert_exporter": "python",
   "pygments_lexer": "ipython3",
   "version": "3.5.2"
  }
 },
 "nbformat": 4,
 "nbformat_minor": 1
}
